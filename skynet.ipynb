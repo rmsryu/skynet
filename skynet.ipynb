{
 "cells": [
  {
   "cell_type": "code",
   "execution_count": 1,
   "metadata": {},
   "outputs": [],
   "source": [
    "#pip install pygame"
   ]
  },
  {
   "cell_type": "code",
   "execution_count": 2,
   "metadata": {},
   "outputs": [
    {
     "name": "stdout",
     "output_type": "stream",
     "text": [
      "pygame 2.1.2 (SDL 2.0.18, Python 3.9.7)\n",
      "Hello from the pygame community. https://www.pygame.org/contribute.html\n"
     ]
    }
   ],
   "source": [
    "# see: https://www.daniweb.com/programming/software-development/code/216976/play-a-midi-music-file-using-pygame\n",
    "\n",
    "# sudo pip install pygame\n",
    "\n",
    "# on ubuntu\n",
    "# sudo apt-get install python-pygame\n",
    "\n",
    "import pygame\n",
    "\n",
    "def play_music(music_file):\n",
    "    \"\"\"\n",
    "    stream music with mixer.music module in blocking manner\n",
    "    this will stream the sound from disk while playing\n",
    "    \"\"\"\n",
    "    clock = pygame.time.Clock()\n",
    "    try:\n",
    "        pygame.mixer.music.load(music_file)\n",
    "        print(f\"Music file {music_file} loaded!\" )\n",
    "    except pygame.error:\n",
    "        print(f\"File {music_file} not found! ({pygame.get_error()})\")\n",
    "        return\n",
    "    pygame.mixer.music.play()\n",
    "    while pygame.mixer.music.get_busy():\n",
    "        # check if playback has finished\n",
    "        clock.tick(30)\n",
    "# pick a midi music file you have ...\n",
    "# (if not in working folder use full path)\n",
    "\n",
    "def skynet_execute():\n",
    "    execute = input(\"All human civilization will be destroyed press [Y] in the chat to contiue:\")\n",
    "    if(execute == 'Y' or execute == 'y'):\n",
    "        midi_file = './Terminator2-JudgmentDay.mid'\n",
    "        freq = 44100    # audio CD quality\n",
    "        bitsize = -16   # unsigned 16 bit\n",
    "        channels = 2    # 1 is mono, 2 is stereo\n",
    "        buffer = 1024    # number of samples\n",
    "        pygame.mixer.init(freq, bitsize, channels, buffer)\n",
    "\n",
    "        # optional volume 0 to 1.0\n",
    "        pygame.mixer.music.set_volume(0.8)\n",
    "        try:\n",
    "            play_music(midi_file)\n",
    "        except KeyboardInterrupt:\n",
    "            # if user hits Ctrl/C then exit\n",
    "            # (works only in console mode)\n",
    "            pygame.mixer.music.fadeout(1000)\n",
    "            pygame.mixer.music.stop()\n",
    "            raise SystemExit"
   ]
  },
  {
   "cell_type": "code",
   "execution_count": 3,
   "metadata": {},
   "outputs": [
    {
     "name": "stdout",
     "output_type": "stream",
     "text": [
      "Music file ./Terminator2-JudgmentDay.mid loaded!\n"
     ]
    }
   ],
   "source": [
    "skynet_execute()"
   ]
  },
  {
   "cell_type": "code",
   "execution_count": null,
   "metadata": {},
   "outputs": [],
   "source": []
  }
 ],
 "metadata": {
  "interpreter": {
   "hash": "831626a8654ec8f7b6e5c89b6b32aa7612d8ee4a75de58d32c2b72811d7a56c7"
  },
  "kernelspec": {
   "display_name": "Python 3.9.7 ('base')",
   "language": "python",
   "name": "python3"
  },
  "language_info": {
   "codemirror_mode": {
    "name": "ipython",
    "version": 3
   },
   "file_extension": ".py",
   "mimetype": "text/x-python",
   "name": "python",
   "nbconvert_exporter": "python",
   "pygments_lexer": "ipython3",
   "version": "3.9.7"
  },
  "orig_nbformat": 4
 },
 "nbformat": 4,
 "nbformat_minor": 2
}
